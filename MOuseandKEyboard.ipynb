{
 "cells": [
  {
   "cell_type": "code",
   "execution_count": 2,
   "metadata": {},
   "outputs": [
    {
     "ename": "ModuleNotFoundError",
     "evalue": "No module named 'serial'",
     "output_type": "error",
     "traceback": [
      "\u001b[1;31m---------------------------------------------------------------------------\u001b[0m",
      "\u001b[1;31mModuleNotFoundError\u001b[0m                       Traceback (most recent call last)",
      "\u001b[1;32m<ipython-input-2-274f33ee0372>\u001b[0m in \u001b[0;36m<module>\u001b[1;34m\u001b[0m\n\u001b[1;32m----> 1\u001b[1;33m \u001b[1;32mimport\u001b[0m \u001b[0mserial\u001b[0m\u001b[1;33m\u001b[0m\u001b[1;33m\u001b[0m\u001b[0m\n\u001b[0m\u001b[0;32m      2\u001b[0m \u001b[1;32mimport\u001b[0m \u001b[0mpyautogui\u001b[0m\u001b[1;33m\u001b[0m\u001b[1;33m\u001b[0m\u001b[0m\n\u001b[0;32m      3\u001b[0m \u001b[1;33m\u001b[0m\u001b[0m\n\u001b[0;32m      4\u001b[0m \u001b[0mArduino_Serial\u001b[0m \u001b[1;33m=\u001b[0m \u001b[0mserial\u001b[0m\u001b[1;33m.\u001b[0m\u001b[0mSerial\u001b[0m\u001b[1;33m(\u001b[0m\u001b[1;34m'com12'\u001b[0m\u001b[1;33m,\u001b[0m\u001b[1;36m9600\u001b[0m\u001b[1;33m)\u001b[0m\u001b[1;33m\u001b[0m\u001b[1;33m\u001b[0m\u001b[0m\n\u001b[0;32m      5\u001b[0m \u001b[1;33m\u001b[0m\u001b[0m\n",
      "\u001b[1;31mModuleNotFoundError\u001b[0m: No module named 'serial'"
     ]
    }
   ],
   "source": [
    "import serial                                      \n",
    "import pyautogui                                   \n",
    "\n",
    "Arduino_Serial = serial.Serial('com12',9600)       \n",
    " \n",
    "while 1:\n",
    "    incoming_data = str (Arduino_Serial.readline()) \n",
    "    print (incoming_data)                            \n",
    "     \n",
    "\n",
    "    if 'next' in incoming_data:                    \n",
    "        pyautogui.hotkey('ctrl', 'pgdn')           #\"ctrl+pagedown\" \n",
    "        \n",
    "    if 'previous' in incoming_data:                \n",
    "        pyautogui.hotkey('ctrl', 'pgup')           #\"ctrl+pageup\"\n",
    "\n",
    "    if 'down' in incoming_data:                    \n",
    "        #pyautogui.press('down')                   #\"down arrow\" \n",
    "        pyautogui.scroll(-100) \n",
    "         \n",
    "    if 'up' in incoming_data:                     \n",
    "        #pyautogui.press('up')                      #\"up arrow\" \n",
    "        pyautogui.scroll(100)\n",
    "        \n",
    "    if 'change' in incoming_data:                 \n",
    "        pyautogui.keyDown('alt')                   #\"alt+tab\"\n",
    "        pyautogui.press('tab')\n",
    "        pyautogui.keyUp('alt')\n",
    "        \n",
    "    if 'Exit'in incoming_data:\n",
    "        pyautogui.keyDown('alt')                 #\"alt+f4\"\n",
    "        pyautogui.press('F4')\n",
    "        \n",
    "    incoming_data = \"\";                         "
   ]
  },
  {
   "cell_type": "code",
   "execution_count": null,
   "metadata": {},
   "outputs": [],
   "source": []
  }
 ],
 "metadata": {
  "kernelspec": {
   "display_name": "Python 3",
   "language": "python",
   "name": "python3"
  },
  "language_info": {
   "codemirror_mode": {
    "name": "ipython",
    "version": 3
   },
   "file_extension": ".py",
   "mimetype": "text/x-python",
   "name": "python",
   "nbconvert_exporter": "python",
   "pygments_lexer": "ipython3",
   "version": "3.7.1"
  }
 },
 "nbformat": 4,
 "nbformat_minor": 2
}
